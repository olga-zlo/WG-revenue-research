{
 "cells": [
  {
   "cell_type": "code",
   "execution_count": 26,
   "metadata": {},
   "outputs": [],
   "source": [
    "import pandas as pd"
   ]
  },
  {
   "cell_type": "code",
   "execution_count": 27,
   "metadata": {},
   "outputs": [],
   "source": [
    "df = pd.read_csv('/Users/oz/Desktop/fixedtask1.csv', delimiter=';')"
   ]
  },
  {
   "cell_type": "code",
   "execution_count": 28,
   "metadata": {},
   "outputs": [
    {
     "name": "stdout",
     "output_type": "stream",
     "text": [
      "       dt  revenue events  Unnamed: 3  Unnamed: 4\n",
      "0  5/1/25  100 150    NaN         NaN         NaN\n",
      "1  5/2/25  114 747    NaN         NaN         NaN\n",
      "2  5/3/25  109 744    NaN         NaN         NaN\n",
      "3  5/4/25  107 271    NaN         NaN         NaN\n",
      "4  5/5/25  101 863    NaN         NaN         NaN\n"
     ]
    }
   ],
   "source": [
    "print(df.head())"
   ]
  },
  {
   "cell_type": "code",
   "execution_count": 29,
   "metadata": {},
   "outputs": [
    {
     "name": "stdout",
     "output_type": "stream",
     "text": [
      "<class 'pandas.core.frame.DataFrame'>\n",
      "RangeIndex: 103 entries, 0 to 102\n",
      "Data columns (total 5 columns):\n",
      " #   Column      Non-Null Count  Dtype  \n",
      "---  ------      --------------  -----  \n",
      " 0   dt          103 non-null    object \n",
      " 1   revenue     103 non-null    object \n",
      " 2   events      18 non-null     object \n",
      " 3   Unnamed: 3  0 non-null      float64\n",
      " 4   Unnamed: 4  0 non-null      float64\n",
      "dtypes: float64(2), object(3)\n",
      "memory usage: 4.2+ KB\n",
      "None\n"
     ]
    }
   ],
   "source": [
    "print(df.info())"
   ]
  },
  {
   "cell_type": "code",
   "execution_count": 30,
   "metadata": {},
   "outputs": [],
   "source": [
    "df['dt'] = pd.to_datetime(df['dt'], format='%m/%d/%y')\n",
    "df = df.drop(columns=['Unnamed: 3', 'Unnamed: 4'])"
   ]
  },
  {
   "cell_type": "code",
   "execution_count": 31,
   "metadata": {},
   "outputs": [
    {
     "name": "stdout",
     "output_type": "stream",
     "text": [
      "          dt  revenue events\n",
      "0 2025-05-01  100 150    NaN\n",
      "1 2025-05-02  114 747    NaN\n",
      "2 2025-05-03  109 744    NaN\n",
      "3 2025-05-04  107 271    NaN\n",
      "4 2025-05-05  101 863    NaN\n"
     ]
    }
   ],
   "source": [
    "print(df.head())"
   ]
  },
  {
   "cell_type": "code",
   "execution_count": 32,
   "metadata": {},
   "outputs": [
    {
     "name": "stdout",
     "output_type": "stream",
     "text": [
      "0    100150\n",
      "1    114747\n",
      "2    109744\n",
      "3    107271\n",
      "4    101863\n",
      "Name: revenue, dtype: int64\n"
     ]
    }
   ],
   "source": [
    "df['revenue'] = df['revenue'].replace({r'\\s': ''}, regex=True)\n",
    "df['revenue'] = pd.to_numeric(df['revenue'], errors='coerce')\n",
    "print(df['revenue'].head())"
   ]
  },
  {
   "cell_type": "code",
   "execution_count": 36,
   "metadata": {},
   "outputs": [
    {
     "name": "stdout",
     "output_type": "stream",
     "text": [
      "Revenue during Test Period (18-07-2025 to 21-07-2025): 445831\n",
      "Revenue during No-Events Sample Period (01-05-2025 to 04-05-2025): 431912\n",
      "Revenue in the test period is higher than the period with no events.\n"
     ]
    }
   ],
   "source": [
    "test_start_date = pd.to_datetime('2025-07-18')\n",
    "test_end_date = pd.to_datetime('2025-07-21')\n",
    "test_period_data = df[(df['dt'] >= test_start_date) & (df['dt'] <= test_end_date)]\n",
    "test_period_duration = (test_end_date - test_start_date).days + 1\n",
    "\n",
    "\n",
    "no_events_start_date = pd.to_datetime('2025-05-01')\n",
    "no_events_end_date = pd.to_datetime('2025-05-04')\n",
    "no_events_period_data = df[(df['dt'] >= no_events_start_date) & (df['dt'] <= no_events_end_date)]\n",
    "no_events_period_duration = (no_events_end_date - no_events_start_date).days + 1\n",
    "\n",
    "\n",
    "test_period_revenue = test_period_data['revenue'].sum()\n",
    "no_events_period_revenue = no_events_period_data['revenue'].sum()\n",
    "\n",
    "\n",
    "print(f\"Revenue during Test Period (18-07-2025 to 21-07-2025): {test_period_revenue}\")\n",
    "print(f\"Revenue during No-Events Sample Period (01-05-2025 to 04-05-2025): {no_events_period_revenue}\")\n",
    "\n",
    "\n",
    "if test_period_revenue > no_events_period_revenue:\n",
    "    print(\"Revenue in the test period is higher than the period with no events.\")\n",
    "elif test_period_revenue < no_events_period_revenue:\n",
    "    print(\"Revenue in the test period is lower than the period with no events.\")\n",
    "else:\n",
    "    print(\"Revenue in both periods is the same.\")\n"
   ]
  }
 ],
 "metadata": {
  "kernelspec": {
   "display_name": "Python 3",
   "language": "python",
   "name": "python3"
  },
  "language_info": {
   "codemirror_mode": {
    "name": "ipython",
    "version": 3
   },
   "file_extension": ".py",
   "mimetype": "text/x-python",
   "name": "python",
   "nbconvert_exporter": "python",
   "pygments_lexer": "ipython3",
   "version": "3.13.0"
  }
 },
 "nbformat": 4,
 "nbformat_minor": 2
}
